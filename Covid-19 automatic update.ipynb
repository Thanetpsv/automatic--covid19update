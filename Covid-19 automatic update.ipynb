{
 "cells": [
  {
   "cell_type": "code",
   "execution_count": 20,
   "metadata": {},
   "outputs": [],
   "source": [
    "import requests\n",
    "from bs4 import BeautifulSoup\n",
    "from selenium import webdriver\n",
    "import pandas as pd\n",
    "import matplotlib.pyplot as plt\n",
    "from selenium.webdriver.common.keys import Keys\n",
    "import time\n",
    "from selenium.webdriver.common.by import By\n",
    "from selenium.webdriver.support.ui import WebDriverWait\n",
    "from selenium.webdriver.support import expected_conditions as EC"
   ]
  },
  {
   "cell_type": "code",
   "execution_count": 21,
   "metadata": {},
   "outputs": [
    {
     "data": {
      "text/plain": [
       "<selenium.webdriver.support.wait.WebDriverWait (session=\"597ec5ce9ffb46fc6181064295a8e694\")>"
      ]
     },
     "execution_count": 21,
     "metadata": {},
     "output_type": "execute_result"
    }
   ],
   "source": [
    "PATH = \"C:\\Program Files (x86)\\chromedriver.exe\"\n",
    "driver = webdriver.Chrome(PATH)\n",
    "driver.get('https://coronavirus.data.gov.uk/')\n",
    "WebDriverWait(driver, 10)"
   ]
  },
  {
   "cell_type": "code",
   "execution_count": 22,
   "metadata": {},
   "outputs": [],
   "source": [
    "html_doc = driver.page_source\n",
    "driver.quit()"
   ]
  },
  {
   "cell_type": "code",
   "execution_count": 23,
   "metadata": {},
   "outputs": [],
   "source": [
    "soup = BeautifulSoup(html_doc,'lxml')\n",
    "daily_case = soup.find_all('span', class_='sc-AxhCb eSwYtm govuk-heading-l')[1].text\n",
    "daily_death = soup.find_all('span', class_='sc-AxhCb eSwYtm govuk-heading-l')[3].text\n",
    "date_case = soup.find_all('p', class_='sc-AxiKw eSbheu govuk-body govuk-!-font-size-16 govuk-!-margin-bottom-1')[1].text\n",
    "date_death = soup.find_all('p', class_='sc-AxiKw eSbheu govuk-body govuk-!-font-size-16 govuk-!-margin-bottom-1')[3].text"
   ]
  },
  {
   "cell_type": "code",
   "execution_count": 24,
   "metadata": {},
   "outputs": [
    {
     "name": "stdout",
     "output_type": "stream",
     "text": [
      "Number of additional cases on Friday 15  May 2020: 3,560\n",
      "Number of additional deaths on Friday 15  May 2020: 384\n"
     ]
    }
   ],
   "source": [
    "print(\"\"\"{}: {}\n",
    "{}: {}\"\"\".format(date_case, daily_case, date_death, daily_death))"
   ]
  }
 ],
 "metadata": {
  "kernelspec": {
   "display_name": "Python 3",
   "language": "python",
   "name": "python3"
  },
  "language_info": {
   "codemirror_mode": {
    "name": "ipython",
    "version": 3
   },
   "file_extension": ".py",
   "mimetype": "text/x-python",
   "name": "python",
   "nbconvert_exporter": "python",
   "pygments_lexer": "ipython3",
   "version": "3.8.2"
  }
 },
 "nbformat": 4,
 "nbformat_minor": 4
}
